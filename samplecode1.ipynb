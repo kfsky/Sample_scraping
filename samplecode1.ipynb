{
 "cells": [
  {
   "cell_type": "code",
   "execution_count": 21,
   "metadata": {},
   "outputs": [],
   "source": [
    "from selenium import webdriver\n",
    "import pandas as pd\n",
    "\n",
    "categories = []\n",
    "rates = []\n",
    "\n",
    "#目的サイト\n",
    "def browser_get():\n",
    "    browser = webdriver.Firefox()\n",
    "    browser.get('https://www.mizuhobank.co.jp/rate_fee/rate_interest.html')\n",
    "\n",
    "#get elements\n",
    "def get_elements():\n",
    "    for row in range(1,7):\n",
    "        cate_elems = '/html/body/div[3]/div/div[3]/div[2]/article/div/div[2]/div/table/tbody/tr[{}]/th'.format(row)\n",
    "        rate_elems = '/html/body/div[3]/div/div[3]/div[2]/article/div/div[2]/div/table/tbody/tr[{}]/td'.format(row)\n",
    "        category = browser.find_element_by_xpath(cate_elems).text\n",
    "        rate = browser.find_element_by_xpath(rate_elems).text\n",
    "        categories.append(category)\n",
    "        rates.append(rate)\n",
    "    \n",
    "# create Dateframe\n",
    "def dateframe():\n",
    "    df = pd.DataFrame()\n",
    "    df[' '] = categories\n",
    "    df['外貨普通預金金利'] = rates\n",
    "    # to_csv\n",
    "    df.to_csv('rate.csv', index=False, encoding='utf_8_sig')\n",
    "\n"
   ]
  },
  {
   "cell_type": "code",
   "execution_count": null,
   "metadata": {},
   "outputs": [],
   "source": []
  }
 ],
 "metadata": {
  "kernelspec": {
   "display_name": "Python 3",
   "language": "python",
   "name": "python3"
  },
  "language_info": {
   "codemirror_mode": {
    "name": "ipython",
    "version": 3
   },
   "file_extension": ".py",
   "mimetype": "text/x-python",
   "name": "python",
   "nbconvert_exporter": "python",
   "pygments_lexer": "ipython3",
   "version": "3.7.1"
  }
 },
 "nbformat": 4,
 "nbformat_minor": 2
}
